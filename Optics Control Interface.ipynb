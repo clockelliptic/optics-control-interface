{
 "cells": [
  {
   "cell_type": "markdown",
   "metadata": {
    "toc": true
   },
   "source": [
    "<h1>Table of Contents<span class=\"tocSkip\"></span></h1>\n",
    "<div class=\"toc\"><ul class=\"toc-item\"><li><span><a href=\"#Optics-Control-Interface\" data-toc-modified-id=\"Optics-Control-Interface-1\">Optics Control Interface</a></span><ul class=\"toc-item\"><li><span><a href=\"#Workflow\" data-toc-modified-id=\"Workflow-1.1\">Workflow</a></span></li></ul></li></ul></div>"
   ]
  },
  {
   "cell_type": "markdown",
   "metadata": {},
   "source": [
    "# Optics Control Interface\n",
    "__Read Me First__\n",
    "\n",
    "Skimming the read_me_first document should give everyone a better idea of what the FPGA does and how it does it. \n",
    "\n",
    "__The Newport NewStep Controller__\n",
    "\n",
    "Chapter 6 of the NewStep manual includes all the ASCII command set for the NewStep system. \n",
    "\n",
    "The NewStep controller will work with the NSA12 linear actuator and the NSR1 rotation mounts. These are the devices we’ll want to control from the computer to change experimental conditions *(either rotating polarization with a half-wave plate in a rotation mount, or changing the path length of an interferometer by using the linear actuator to tilt one axis of a mirror mount)*."
   ]
  },
  {
   "cell_type": "markdown",
   "metadata": {},
   "source": [
    "## Workflow\n",
    "\n",
    "__Basics:__\n",
    "1. Using PySerial package, get Python to interface with serial COM ports on lab machine.\n",
    "2. Read incoming data from FPGA with PySerial.\n",
    "3. Read / Write ASCII commands to NewStep controller to operate the NSA12 and/or NSR1.\n",
    "\n",
    "__Data & Signal Processing:__\n",
    "4. Display current position / status of connected control devices\n",
    "5. Capture FPGA data and write it to a .CSV file\n",
    "6. Generate real-time graphical output of data\n",
    "\n",
    "__Control GUI:__\n",
    "7. Install and test a GUI framework\n",
    "8. Begin mapping the features listed above to a JS/HTML-based GUI framework\n",
    "9. Host the GUI on a local port and test it in a local browser\n",
    "\n",
    "__Remote control:__ *Hard part begins here.*\n",
    "9. Begin writing Django Framework.\n",
    "10. ...\n"
   ]
  },
  {
   "cell_type": "markdown",
   "metadata": {},
   "source": [
    "helpful notes\n",
    "\n",
    "https://stackoverflow.com/questions/35823189/connecting-via-usb-serial-port-to-newport-conex-pp-motion-controller-in-python\n",
    "\n"
   ]
  }
 ],
 "metadata": {
  "kernelspec": {
   "display_name": "Python 3",
   "language": "python",
   "name": "python3"
  },
  "language_info": {
   "codemirror_mode": {
    "name": "ipython",
    "version": 3
   },
   "file_extension": ".py",
   "mimetype": "text/x-python",
   "name": "python",
   "nbconvert_exporter": "python",
   "pygments_lexer": "ipython3",
   "version": "3.7.2"
  },
  "toc": {
   "base_numbering": 1,
   "nav_menu": {},
   "number_sections": false,
   "sideBar": true,
   "skip_h1_title": false,
   "title_cell": "Table of Contents",
   "title_sidebar": "Contents",
   "toc_cell": true,
   "toc_position": {},
   "toc_section_display": true,
   "toc_window_display": false
  }
 },
 "nbformat": 4,
 "nbformat_minor": 2
}
